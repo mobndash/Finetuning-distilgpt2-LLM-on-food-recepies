{
 "cells": [
  {
   "cell_type": "code",
   "execution_count": 3,
   "id": "95cbab03",
   "metadata": {},
   "outputs": [
    {
     "name": "stdout",
     "output_type": "stream",
     "text": [
      "torch: 2.7.1+cu118\n",
      "CUDA available: True\n",
      "CUDA devices: 1\n",
      "current device: 0\n",
      "device name: NVIDIA GeForce GTX 1650 with Max-Q Design\n"
     ]
    }
   ],
   "source": [
    "import torch\n",
    "print(\"torch:\", torch.__version__)\n",
    "print(\"CUDA available:\", torch.cuda.is_available())\n",
    "print(\"CUDA devices:\", torch.cuda.device_count())\n",
    "if torch.cuda.is_available():\n",
    "    print(\"current device:\", torch.cuda.current_device())\n",
    "    print(\"device name:\", torch.cuda.get_device_name(0))"
   ]
  },
  {
   "cell_type": "code",
   "execution_count": 1,
   "id": "30c40c27",
   "metadata": {},
   "outputs": [
    {
     "name": "stderr",
     "output_type": "stream",
     "text": [
      "e:\\Generative AI Projects\\Finetuning-distilgpt2-LLM-on-food-recepies\\finevenv\\Lib\\site-packages\\tqdm\\auto.py:21: TqdmWarning: IProgress not found. Please update jupyter and ipywidgets. See https://ipywidgets.readthedocs.io/en/stable/user_install.html\n",
      "  from .autonotebook import tqdm as notebook_tqdm\n"
     ]
    }
   ],
   "source": [
    "from transformers import AutoModelForCausalLM, AutoTokenizer\n",
    "\n",
    "model = AutoModelForCausalLM.from_pretrained(\"gpt2\")\n",
    "tokenizer = AutoTokenizer.from_pretrained(\"gpt2\")"
   ]
  },
  {
   "cell_type": "markdown",
   "id": "7d289909",
   "metadata": {},
   "source": [
    "#### Initializing model and tokenizer"
   ]
  },
  {
   "cell_type": "code",
   "execution_count": 4,
   "id": "59eb19c0",
   "metadata": {},
   "outputs": [],
   "source": [
    "model_name = \"distilbert/distilgpt2\"\n",
    "\n",
    "device = \"cuda\" if torch.cuda.is_available() else \"cpu\""
   ]
  },
  {
   "cell_type": "code",
   "execution_count": 5,
   "id": "8c22b40c",
   "metadata": {},
   "outputs": [
    {
     "data": {
      "text/plain": [
       "GPT2LMHeadModel(\n",
       "  (transformer): GPT2Model(\n",
       "    (wte): Embedding(50257, 768)\n",
       "    (wpe): Embedding(1024, 768)\n",
       "    (drop): Dropout(p=0.1, inplace=False)\n",
       "    (h): ModuleList(\n",
       "      (0-5): 6 x GPT2Block(\n",
       "        (ln_1): LayerNorm((768,), eps=1e-05, elementwise_affine=True)\n",
       "        (attn): GPT2Attention(\n",
       "          (c_attn): Conv1D(nf=2304, nx=768)\n",
       "          (c_proj): Conv1D(nf=768, nx=768)\n",
       "          (attn_dropout): Dropout(p=0.1, inplace=False)\n",
       "          (resid_dropout): Dropout(p=0.1, inplace=False)\n",
       "        )\n",
       "        (ln_2): LayerNorm((768,), eps=1e-05, elementwise_affine=True)\n",
       "        (mlp): GPT2MLP(\n",
       "          (c_fc): Conv1D(nf=3072, nx=768)\n",
       "          (c_proj): Conv1D(nf=768, nx=3072)\n",
       "          (act): NewGELUActivation()\n",
       "          (dropout): Dropout(p=0.1, inplace=False)\n",
       "        )\n",
       "      )\n",
       "    )\n",
       "    (ln_f): LayerNorm((768,), eps=1e-05, elementwise_affine=True)\n",
       "  )\n",
       "  (lm_head): Linear(in_features=768, out_features=50257, bias=False)\n",
       ")"
      ]
     },
     "execution_count": 5,
     "metadata": {},
     "output_type": "execute_result"
    }
   ],
   "source": [
    "from transformers import AutoModelForCausalLM, AutoTokenizer\n",
    "\n",
    "tokenizer = AutoTokenizer.from_pretrained(model_name)\n",
    "tokenizer.pad_token = tokenizer.eos_token\n",
    "\n",
    "model = AutoModelForCausalLM.from_pretrained(model_name)\n",
    "\n",
    "model = model.to(device)\n",
    "\n",
    "model"
   ]
  },
  {
   "cell_type": "markdown",
   "id": "976649be",
   "metadata": {},
   "source": [
    "#### Loading a dataset"
   ]
  },
  {
   "cell_type": "code",
   "execution_count": 6,
   "id": "ad05ef7c",
   "metadata": {},
   "outputs": [],
   "source": [
    "from datasets import Dataset\n",
    "import pandas as pd\n",
    "import json"
   ]
  },
  {
   "cell_type": "code",
   "execution_count": 11,
   "id": "27550cfd",
   "metadata": {},
   "outputs": [],
   "source": [
    "df = pd.read_csv(\"E:/Generative AI Projects/Finetuning-distilgpt2-LLM-on-food-recepies/corpus/RecipeNLG_dataset.csv\")"
   ]
  },
  {
   "cell_type": "markdown",
   "id": "c49a4244",
   "metadata": {},
   "source": [
    "#### Creating feature recepie_string"
   ]
  },
  {
   "cell_type": "code",
   "execution_count": 12,
   "id": "0bf30324",
   "metadata": {},
   "outputs": [],
   "source": [
    "def create_recepie_full(data) :\n",
    "    recepie_directions = \" \".join(json.loads(data[\"directions\"]))\n",
    "    recepie_title = data[\"title\"]\n",
    "    recepie_string = f\"TITLE: {recepie_title} | DIRECTIONS: {recepie_directions}\"\n",
    "    data[\"recepie_string\"] = recepie_string\n",
    "    return data\n",
    "\n",
    "df = df.apply(create_recepie_full, axis = 1)\n",
    "df = df.filter([\"recepie_string\"])"
   ]
  },
  {
   "cell_type": "code",
   "execution_count": 13,
   "id": "03d11de0",
   "metadata": {},
   "outputs": [
    {
     "data": {
      "application/vnd.microsoft.datawrangler.viewer.v0+json": {
       "columns": [
        {
         "name": "index",
         "rawType": "int64",
         "type": "integer"
        },
        {
         "name": "recepie_string",
         "rawType": "object",
         "type": "string"
        }
       ],
       "ref": "79ebd299-21df-4e8b-8155-eb476f0276af",
       "rows": [
        [
         "0",
         "TITLE: No-Bake Nut Cookies | DIRECTIONS: In a heavy 2-quart saucepan, mix brown sugar, nuts, evaporated milk and butter or margarine. Stir over medium heat until mixture bubbles all over top. Boil and stir 5 minutes more. Take off heat. Stir in vanilla and cereal; mix well. Using 2 teaspoons, drop and shape into 30 clusters on wax paper. Let stand until firm, about 30 minutes."
        ],
        [
         "1",
         "TITLE: Jewell Ball'S Chicken | DIRECTIONS: Place chipped beef on bottom of baking dish. Place chicken on top of beef. Mix soup and cream together; pour over chicken. Bake, uncovered, at 275° for 3 hours."
        ],
        [
         "2",
         "TITLE: Creamy Corn | DIRECTIONS: In a slow cooker, combine all ingredients. Cover and cook on low for 4 hours or until heated through and cheese is melted. Stir well before serving. Yields 6 servings."
        ],
        [
         "3",
         "TITLE: Chicken Funny | DIRECTIONS: Boil and debone chicken. Put bite size pieces in average size square casserole dish. Pour gravy and cream of mushroom soup over chicken; level. Make stuffing according to instructions on box (do not make too moist). Put stuffing on top of chicken and gravy; level. Sprinkle shredded cheese on top and bake at 350° for approximately 20 minutes or until golden and bubbly."
        ],
        [
         "4",
         "TITLE: Reeses Cups(Candy)   | DIRECTIONS: Combine first four ingredients and press in 13 x 9-inch ungreased pan. Melt chocolate chips and spread over mixture. Refrigerate for about 20 minutes and cut into pieces before chocolate gets hard. Keep in refrigerator."
        ],
        [
         "5",
         "TITLE: Cheeseburger Potato Soup | DIRECTIONS: Wash potatoes; prick several times with a fork. Microwave them with a wet paper towel covering the potatoes on high for 6-8 minutes. The potatoes should be soft, ready to eat. Let them cool enough to handle. Cut in half lengthwise; scoop out pulp and reserve. Discard shells. Brown ground beef until done. Drain any grease from the meat. Set aside when done. Meat will be added later. Melt butter in a large kettle over low heat; add flour, stirring until smooth. Cook 1 minute, stirring constantly. Gradually add milk; cook over medium heat, stirring constantly, until thickened and bubbly. Stir in potato, ground beef, salt, pepper, 1 cup of cheese, 2 tablespoons of green onion and 1/2 cup of bacon. Cook until heated (do not boil). Stir in sour cream if desired; cook until heated (do not boil). Sprinkle with remaining cheese, bacon and green onions."
        ],
        [
         "6",
         "TITLE: Rhubarb Coffee Cake | DIRECTIONS: Cream sugar and butter. Add egg and beat well. To creamed butter, sugar and egg, add alternately buttermilk with mixture of flour, salt and soda. Mix well. Add rhubarb and vanilla. Pour into greased 9 x 13-inch pan and add Topping."
        ],
        [
         "7",
         "TITLE: Scalloped Corn | DIRECTIONS: Mix together both cans of corn, crackers, egg, 2 teaspoons of melted butter and pepper and place in a buttered baking dish. Dot with remaining 4 teaspoons of butter. Bake at 350° for 1 hour."
        ],
        [
         "8",
         "TITLE: Nolan'S Pepper Steak | DIRECTIONS: Roll steak strips in flour. Brown in skillet. Salt and pepper. Combine tomato liquid, water, onions and browned steak. Cover and simmer for one and a quarter hours. Uncover and stir in Worcestershire sauce. Add tomatoes, green peppers and simmer for 5 minutes. Serve over hot cooked rice."
        ],
        [
         "9",
         "TITLE: Millionaire Pie | DIRECTIONS: Empty Cool Whip into a bowl. Drain juice from pineapple. Mix Cool Whip and pineapple. Add condensed milk. Squeeze lemons, remove seeds and add to Cool Whip and pineapple. Chop nuts into small pieces and add to mixture. Stir all ingredients together and mix well. Pour into a graham cracker crust. Use top from crust to cover top of pie. Chill overnight. Makes 2 pies."
        ],
        [
         "10",
         "TITLE: Double Cherry Delight | DIRECTIONS: Drain cherries, measuring syrup. Cut cherries in half. Add ginger ale and enough water to syrup to make 1 1/2 cups. Dissolve gelatin in boiling water. Add measured liquid and almond extract. Chill until very thick. Fold in marshmallows and the cherries. Spoon into 6-cup mold. Chill until firm, at least 4 hours or overnight. Unmold. Makes about 5 1/3 cups."
        ],
        [
         "11",
         "TITLE: Buckeye Candy | DIRECTIONS: Mix sugar, butter and peanut butter. Roll into balls and place on cookie sheet. Set in freezer for at least 30 minutes. Melt chocolate chips and paraffin in double boiler. Using a toothpick, dip balls 3/4 of way into chocolate chip and paraffin mixture to make them look like buckeyes."
        ],
        [
         "12",
         "TITLE: Quick Barbecue Wings | DIRECTIONS: Clean wings. Flour and fry until done. Place fried chicken wings in microwave bowl. Stir in barbecue sauce. Microwave on High (stir once) for 4 minutes."
        ],
        [
         "13",
         "TITLE: Taco Salad Chip Dip | DIRECTIONS: Mix taco sauce, sour cream and cream cheese. Spread on pizza pan. Brown meat. Drain off fat and add taco seasoning. Spread over cream mixture. Layer with raw vegetables. Top with cheese. Serve with chips."
        ],
        [
         "14",
         "TITLE: Pink Stuff(Frozen Dessert)   | DIRECTIONS: Mix all ingredients together. Pour into a 9 x 13-inch pan. Freeze until firm. Allow to set out approximately 15 minutes before serving."
        ],
        [
         "15",
         "TITLE: Fresh Strawberry Pie | DIRECTIONS: Mix water, cornstarch, sugar and salt in saucepan. Stir constantly and boil until thick and clear. Remove from heat and stir in jello. Set aside to cool. But don't allow it to set. Layer strawberries in baked crust. Pour cooled glaze over. Continue layering berries and glaze. Refrigerate. Serve with whipped cream."
        ],
        [
         "16",
         "TITLE: Easy German Chocolate Cake | DIRECTIONS: Mix according to directions and add oil. Bake in 9 x 13-inch pan."
        ],
        [
         "17",
         "TITLE: Broccoli Salad | DIRECTIONS: Trim off large leaves of broccoli and remove the tough ends of lower stalks. Wash the broccoli thoroughly. Cut the florets and stems into bite-size pieces. Place in a large bowl. Add bacon, onions and raisins. Combine remaining ingredients, stirring well. Add dressing to broccoli mixture and toss gently. Cover and refrigerate 2 to 3 hours. Makes about 6 servings."
        ],
        [
         "18",
         "TITLE: Strawberry Whatever | DIRECTIONS: Mix Jell-O in boiling water. Add strawberries, pineapple, crushed bananas and nuts. Spread 1/2 mixture in 13 x 6 1/2-inch pan. Allow to gel in freezer 30 minutes. Add layer of sour cream, then remaining mixture on top. Gel and serve."
        ],
        [
         "19",
         "TITLE: Eggless Milkless Applesauce Cake | DIRECTIONS: Mix Crisco with applesauce, nuts and raisins. Sift dry ingredients and add. Mix well. Put in a greased and floured loaf pan or tube pan. Bake in loaf pan at 350° to 375° for 45 to 60 minutes, layer pan at 375° for 20 minutes or tube pan at 325° for 1 hour."
        ],
        [
         "20",
         "TITLE: Grandma Hanrath'S Banana Breadfort Collins, Colorado   | DIRECTIONS: Cream sugar and shortening. Add eggs, salt and soda, then bananas and flour. Add nuts. Mix well. Bake in loaf pan at 350° for 1 hour."
        ],
        [
         "21",
         "TITLE: Chocolate Frango Mints | DIRECTIONS: Mix ingredients together for 5 minutes. Scrape bowl often. Last fold in chocolate chip mints. Bake at 350° for 35 to 40 minutes or until done (cake mix directions)."
        ],
        [
         "22",
         "TITLE: Cuddy Farms Marinated Turkey | DIRECTIONS: Buy whole turkey breast; remove all skin and bones. Cut into pieces about the size of your hand. Pour marinade over turkey and refrigerate for at least 8 hours (up to 48 hours). The longer it marinates, the less cooking time it takes."
        ],
        [
         "23",
         "TITLE: Spaghetti Sauce To Can | DIRECTIONS: Cook ground or chopped peppers and onions in oil for 1/2 hour. Cook tomatoes and garlic as for juice. Put through the mill. (I use a food processor and do my tomatoes uncooked. I then add the garlic right to the juice.) Add peppers and onions to juice and remainder of ingredients. Cook approximately 1 hour. Put in jars and seal. Yields 7 quarts."
        ],
        [
         "24",
         "TITLE: Prize-Winning Meat Loaf | DIRECTIONS: Mix well. Press firmly into an 8 1/2 x 4 1/2 x 2 1/2-inch loaf pan. Bake in preheated moderate oven. Bake at 350° for 1 hour. Let stand 5 minutes before slicing. Makes 8 servings."
        ],
        [
         "25",
         "TITLE: Smothered Round Steak(Servings: 4)   | DIRECTIONS: Alex Patout says, \"Smothering is a multipurpose Cajun technique that works wonders with everything from game to snap beans. It's similar to what the rest of the world knows as braising. The ingredients are briefly browned or sauteed, then cooked with a little liquid over a low heat for a long time.\""
        ],
        [
         "26",
         "TITLE: Corral Barbecued Beef Steak Strips | DIRECTIONS: Brown strips in cooking oil. Pour off drippings. Combine tomato sauce, water, brown sugar, mustard and Worcestershire sauce. Add sauce and onion to meat slices. Cover and cook slowly, stirring occasionally 30 minutes or until meat is tender. Serve over rice or buttered noodles. Yields 6 to 8 servings."
        ],
        [
         "27",
         "TITLE: Easy Fudge | DIRECTIONS: Butter a square pan, 8 x 8 x 2-inches. Heat milk, chocolate chips and unsweetened chocolate over low heat, stirring constantly, until chocolate is melted and mixture is smooth. Remove from heat. Stir in nuts and vanilla. Spread in pan."
        ],
        [
         "28",
         "TITLE: Taco-Filled Green Pepper | DIRECTIONS: In a large skillet, brown the ground beef. Drain, stir in taco mix, kidney beans, and salsa. Bring to a boil. Reduce heat, and let simmer for about 5 minutes. Cut peppers in half and clean it. Put peppers in boiling water for 3 minutes- drain- spoon the meat mixture into the green pepper. Put pepper in an ungreased pan. Cover, and bake at 350 degrees for 15 to 20 minutes or until peppers are crispy and filling is heated through. Top with tomatoes, cheese, and sour cream."
        ],
        [
         "29",
         "TITLE: One Hour Rolls | DIRECTIONS: Put flour into a large mixing bowl. Combine sugar, milk, salt and oil in a saucepan and heat to boiling; remove from heat and let cool to lukewarm. Add yeast and mix well. Pour into flour and stir. Batter will be sticky. Roll out batter on a floured board and cut with biscuit cutter. Lightly brush tops with melted oleo and fold over. Place rolls on a cookie sheet, put in a warm place and let rise for 1 hour. Bake at 350° for about 20 minutes. Yield: 2 1/2 dozen."
        ],
        [
         "30",
         "TITLE: Punch Bowl Fruit Salad | DIRECTIONS: In a 6-quart punch bowl mix all of the cans of fruit, juice and all. Clean and slice berries. Wash and slice apples; leave peeling on apples. Dice apples. Slice bananas. Wash and cut grapes in half. Mix all together. Nuts or other fruit may be added."
        ],
        [
         "31",
         "TITLE: Summer Chicken | DIRECTIONS: Double recipe for more chicken."
        ],
        [
         "32",
         "TITLE: Cherry Pizza | DIRECTIONS: Grease a 9 x 12-inch cake pan. Spread cherry pie mix. Sift cake mix and spread it dry over the cherries. Top with ground nuts. Melt butter and pour over top. Bake 45 minutes in a 350° oven."
        ],
        [
         "33",
         "TITLE: Potato And Cheese Pie | DIRECTIONS: Beat eggs, salt and pepper until well blended. Stir in half and half, potatoes and onions. Pour into well-greased 8-inch baking dish. Bake in a 400° oven for 35 to 40 minutes, or until knife inserted in center comes out clean and potatoes are tender. Cool on rack 5 minutes; cut into squares. Makes 4 large servings."
        ],
        [
         "34",
         "TITLE: Tuna Macaroni Casserole | DIRECTIONS: Prepare macaroni and cheese as directed. Add drained tuna, pimento and onion. Mix. Serve hot or cold."
        ],
        [
         "35",
         "TITLE: Artichoke Dip | DIRECTIONS: Drain artichokes and chop. Mix with mayonnaise and Parmesan cheese. After well mixed, bake, uncovered, for 20 to 30 minutes at 350°. Serve with crackers."
        ],
        [
         "36",
         "TITLE: Broccoli Dip For Crackers | DIRECTIONS: Mix together sour cream, soup mix, broccoli and half of cheese. Sprinkle remaining cheese on top. Bake at 350° for 30 minutes, uncovered. Serve hot with vegetable crackers."
        ],
        [
         "37",
         "TITLE: Summer Spaghetti | DIRECTIONS: Prepare spaghetti per package. Drain. Melt a little butter through it. Marinate overnight in Salad Supreme and Zesty Italian dressing. Just before serving, add cucumbers, tomatoes, green peppers, mushrooms, olives or whatever your taste may want."
        ],
        [
         "38",
         "TITLE: Pear-Lime Salad | DIRECTIONS: Drain pears, reserving juice. Bring juice to a boil, stirring constantly. Remove from heat. Add gelatin, stirring until dissolved. Let cool slightly. Coarsely chop pear halves. Combine cream cheese and yogurt; beat at medium speed of electric mixer until smooth. Add gelatin and beat well. Stir in pears. Pour into an oiled 4-cup mold or Pyrex dish. Chill."
        ],
        [
         "39",
         "TITLE: Watermelon Rind Pickles | DIRECTIONS: Trim off green and pink parts of watermelon rind; cut to 1-inch cubes. Parboil until tender, but not soft. Drain. Combine sugar, vinegar, oil of cloves and oil of cinnamon; bring to boiling and pour over rind. Let stand overnight. In the morning, drain off syrup. Heat and put over rind. The third morning, heat rind and syrup; seal in hot, sterilized jars. Makes 8 pints. (Oil of cinnamon and clove keeps rind clear and transparent.)"
        ],
        [
         "40",
         "TITLE: Chicken Stew | DIRECTIONS: Remove chicken from bone. Use the broth. Mix the vegetables and macaroni. Add sugar, salt and black pepper. Cook until all vegetables are tender over medium heat."
        ],
        [
         "41",
         "TITLE: Quick Coffee Cake(6 Servings)   | DIRECTIONS: Mix 3 tablespoons fat with granulated sugar. Add egg and beat until creamy. Mix flour, baking powder and salt thoroughly. Add to sugar mixture alternately with milk. Add vanilla. Spread batter evenly in a greased 8-inch square baking pan. Mix brown sugar and cinnamon and sprinkle over batter. Dot with 2 tablespoons fat. Bake at 350° (moderate oven) for 25 to 30 minutes."
        ],
        [
         "42",
         "TITLE: Angel Biscuits | DIRECTIONS: Mix flour, sugar, baking powder, soda and salt together. Cut in margarine, dissolve yeast in warm water. Stir into buttermilk and add to dry mixture. Cover and chill."
        ],
        [
         "43",
         "TITLE: Quick Peppermint Puffs | DIRECTIONS: Dip marshmallows in melted margarine; roll in candy. Wrap a crescent triangle around each marshmallow, completely covering the marshmallow and square edges of dough tightly to seal. Dip in margarine and place in a greased muffin tin. Bake at 375° for 10 to 15 minutes; remove from pan."
        ],
        [
         "44",
         "TITLE: Fruit Pizza | DIRECTIONS: Mix ingredients and spread into 2 greased pizza pans. Bake at 350° for 15-20 minutes."
        ],
        [
         "45",
         "TITLE: Chocolate Mint Bars | DIRECTIONS: Mix together and bake in 9 x 13-inch pan at 350° for 25 to 30 minutes. Top should spring back when touched lightly; do not overbake. Cool completely, then spread with mint layer."
        ],
        [
         "46",
         "TITLE: Beer Bread | DIRECTIONS: Stir the ingredients together and put in a greased and floured loaf pan. Bake at 425 degrees for 50 minutes. Drizzle melted butter on top."
        ],
        [
         "47",
         "TITLE: Chicken Divan | DIRECTIONS: Melt margarine in skillet; saute onions and celery. Remove from heat. Stir in flour and curry powder. Drain mushrooms and keep juice. Add water to juice to make 1/2 cup liquid. Stir liquid and soup into flour mixture; add mushrooms. Cook until thick. Arrange broccoli and cubed chicken in a large baking dish. Spoon sauce over chicken. Top with grated cheese. Bake in a 350° oven for about 20 minutes or in microwave until cheese is melted."
        ],
        [
         "48",
         "TITLE: Mexican Cookie Rings | DIRECTIONS: Sift flour, baking powder and salt together. Cream together butter and sugar. Add egg yolks and vanilla. Beat until light and fluffy. Mix in sifted dry ingredients. Shape into 1-inch balls. Push wooden spoon handle through center (twist). Shape into rings. Dip each cookie into candies. Place on lightly greased baking sheets. Bake in 375° oven for 10 to 12 minutes or until golden brown. Cool on racks. Serves 2 dozen."
        ],
        [
         "49",
         "TITLE: Vegetable-Burger Soup | DIRECTIONS: Lightly brown beef in soup pot. Drain off excess fat. Stir in tomatoes, tomato sauce, water, frozen vegetables, soup mix and sugar. Bring to a boil. Reduce heat and simmer for 20 minutes. Serve."
        ]
       ],
       "shape": {
        "columns": 1,
        "rows": 2231142
       }
      },
      "text/html": [
       "<div>\n",
       "<style scoped>\n",
       "    .dataframe tbody tr th:only-of-type {\n",
       "        vertical-align: middle;\n",
       "    }\n",
       "\n",
       "    .dataframe tbody tr th {\n",
       "        vertical-align: top;\n",
       "    }\n",
       "\n",
       "    .dataframe thead th {\n",
       "        text-align: right;\n",
       "    }\n",
       "</style>\n",
       "<table border=\"1\" class=\"dataframe\">\n",
       "  <thead>\n",
       "    <tr style=\"text-align: right;\">\n",
       "      <th></th>\n",
       "      <th>recepie_string</th>\n",
       "    </tr>\n",
       "  </thead>\n",
       "  <tbody>\n",
       "    <tr>\n",
       "      <th>0</th>\n",
       "      <td>TITLE: No-Bake Nut Cookies | DIRECTIONS: In a ...</td>\n",
       "    </tr>\n",
       "    <tr>\n",
       "      <th>1</th>\n",
       "      <td>TITLE: Jewell Ball'S Chicken | DIRECTIONS: Pla...</td>\n",
       "    </tr>\n",
       "    <tr>\n",
       "      <th>2</th>\n",
       "      <td>TITLE: Creamy Corn | DIRECTIONS: In a slow coo...</td>\n",
       "    </tr>\n",
       "    <tr>\n",
       "      <th>3</th>\n",
       "      <td>TITLE: Chicken Funny | DIRECTIONS: Boil and de...</td>\n",
       "    </tr>\n",
       "    <tr>\n",
       "      <th>4</th>\n",
       "      <td>TITLE: Reeses Cups(Candy)   | DIRECTIONS: Comb...</td>\n",
       "    </tr>\n",
       "    <tr>\n",
       "      <th>...</th>\n",
       "      <td>...</td>\n",
       "    </tr>\n",
       "    <tr>\n",
       "      <th>2231137</th>\n",
       "      <td>TITLE: Sunny's Fake Crepes | DIRECTIONS: Sprea...</td>\n",
       "    </tr>\n",
       "    <tr>\n",
       "      <th>2231138</th>\n",
       "      <td>TITLE: Devil Eggs | DIRECTIONS: Boil eggs on m...</td>\n",
       "    </tr>\n",
       "    <tr>\n",
       "      <th>2231139</th>\n",
       "      <td>TITLE: Extremely Easy and Quick - Namul Daikon...</td>\n",
       "    </tr>\n",
       "    <tr>\n",
       "      <th>2231140</th>\n",
       "      <td>TITLE: Pan-Roasted Pork Chops With Apple Fritt...</td>\n",
       "    </tr>\n",
       "    <tr>\n",
       "      <th>2231141</th>\n",
       "      <td>TITLE: Polpette in Spicy Tomato Sauce | DIRECT...</td>\n",
       "    </tr>\n",
       "  </tbody>\n",
       "</table>\n",
       "<p>2231142 rows × 1 columns</p>\n",
       "</div>"
      ],
      "text/plain": [
       "                                            recepie_string\n",
       "0        TITLE: No-Bake Nut Cookies | DIRECTIONS: In a ...\n",
       "1        TITLE: Jewell Ball'S Chicken | DIRECTIONS: Pla...\n",
       "2        TITLE: Creamy Corn | DIRECTIONS: In a slow coo...\n",
       "3        TITLE: Chicken Funny | DIRECTIONS: Boil and de...\n",
       "4        TITLE: Reeses Cups(Candy)   | DIRECTIONS: Comb...\n",
       "...                                                    ...\n",
       "2231137  TITLE: Sunny's Fake Crepes | DIRECTIONS: Sprea...\n",
       "2231138  TITLE: Devil Eggs | DIRECTIONS: Boil eggs on m...\n",
       "2231139  TITLE: Extremely Easy and Quick - Namul Daikon...\n",
       "2231140  TITLE: Pan-Roasted Pork Chops With Apple Fritt...\n",
       "2231141  TITLE: Polpette in Spicy Tomato Sauce | DIRECT...\n",
       "\n",
       "[2231142 rows x 1 columns]"
      ]
     },
     "execution_count": 13,
     "metadata": {},
     "output_type": "execute_result"
    }
   ],
   "source": [
    "df"
   ]
  },
  {
   "cell_type": "markdown",
   "id": "a1c42263",
   "metadata": {},
   "source": [
    "#### Creating dataset"
   ]
  },
  {
   "cell_type": "code",
   "execution_count": 14,
   "id": "491cd0e8",
   "metadata": {},
   "outputs": [
    {
     "name": "stderr",
     "output_type": "stream",
     "text": [
      "Map: 100%|██████████| 2231142/2231142 [12:19<00:00, 3018.25 examples/s]\n"
     ]
    },
    {
     "data": {
      "text/plain": [
       "Dataset({\n",
       "    features: ['input_ids', 'attention_mask', 'overflow_to_sample_mapping'],\n",
       "    num_rows: 5441981\n",
       "})"
      ]
     },
     "execution_count": 14,
     "metadata": {},
     "output_type": "execute_result"
    }
   ],
   "source": [
    "dataset = Dataset.from_pandas(df)\n",
    "\n",
    "def map_dataset(batch) :\n",
    "    return tokenizer(\n",
    "        batch[\"recepie_string\"],\n",
    "        truncation = True,\n",
    "        max_length = 64,\n",
    "        return_overflowing_tokens = True\n",
    "    )\n",
    "\n",
    "dataset = dataset.map(\n",
    "    map_dataset,\n",
    "    batched=True,\n",
    "    batch_size=10,\n",
    "    remove_columns=list(df.columns)\n",
    ")\n",
    "\n",
    "dataset"
   ]
  },
  {
   "cell_type": "code",
   "execution_count": 15,
   "id": "dac1cb06",
   "metadata": {},
   "outputs": [
    {
     "data": {
      "text/plain": [
       "Dataset({\n",
       "    features: ['input_ids', 'attention_mask'],\n",
       "    num_rows: 5441981\n",
       "})"
      ]
     },
     "execution_count": 15,
     "metadata": {},
     "output_type": "execute_result"
    }
   ],
   "source": [
    "dataset = dataset.remove_columns([\"overflow_to_sample_mapping\"])\n",
    "\n",
    "# dataset = dataset.select(range(5000))\n",
    "dataset"
   ]
  },
  {
   "cell_type": "markdown",
   "id": "42dceb4f",
   "metadata": {},
   "source": [
    "#### Train Test Split the dataset"
   ]
  },
  {
   "cell_type": "code",
   "execution_count": 16,
   "id": "da951b81",
   "metadata": {},
   "outputs": [],
   "source": [
    "from sklearn.model_selection import train_test_split\n",
    "\n",
    "dataset = dataset.train_test_split(test_size = 0.2)"
   ]
  },
  {
   "cell_type": "markdown",
   "id": "6e27fbca",
   "metadata": {},
   "source": [
    "#### DataCollator"
   ]
  },
  {
   "cell_type": "code",
   "execution_count": 17,
   "id": "57da35cb",
   "metadata": {},
   "outputs": [
    {
     "data": {
      "text/plain": [
       "DataCollatorForLanguageModeling(tokenizer=GPT2TokenizerFast(name_or_path='distilbert/distilgpt2', vocab_size=50257, model_max_length=1024, is_fast=True, padding_side='right', truncation_side='right', special_tokens={'bos_token': '<|endoftext|>', 'eos_token': '<|endoftext|>', 'unk_token': '<|endoftext|>', 'pad_token': '<|endoftext|>'}, clean_up_tokenization_spaces=False, added_tokens_decoder={\n",
       "\t50256: AddedToken(\"<|endoftext|>\", rstrip=False, lstrip=False, single_word=False, normalized=True, special=True),\n",
       "}\n",
       "), mlm=False, mlm_probability=0.15, mask_replace_prob=0.8, random_replace_prob=0.1, pad_to_multiple_of=None, tf_experimental_compile=False, return_tensors='pt', seed=None)"
      ]
     },
     "execution_count": 17,
     "metadata": {},
     "output_type": "execute_result"
    }
   ],
   "source": [
    "from transformers import DataCollatorForLanguageModeling\n",
    "\n",
    "data_collator = DataCollatorForLanguageModeling(\n",
    "    tokenizer = tokenizer,\n",
    "    mlm = False\n",
    ")\n",
    "\n",
    "data_collator"
   ]
  },
  {
   "cell_type": "markdown",
   "id": "5eec853b",
   "metadata": {},
   "source": [
    "#### Configuring training_args and trainer for finetuning"
   ]
  },
  {
   "cell_type": "code",
   "execution_count": 19,
   "id": "29a27114",
   "metadata": {},
   "outputs": [
    {
     "data": {
      "text/html": [
       "\n",
       "    <div>\n",
       "      \n",
       "      <progress value='126998' max='43535840' style='width:300px; height:20px; vertical-align: middle;'></progress>\n",
       "      [  126998/43535840 3:16:21 < 1118:36:59, 10.78 it/s, Epoch 0.03/10]\n",
       "    </div>\n",
       "    <table border=\"1\" class=\"dataframe\">\n",
       "  <thead>\n",
       " <tr style=\"text-align: left;\">\n",
       "      <th>Epoch</th>\n",
       "      <th>Training Loss</th>\n",
       "      <th>Validation Loss</th>\n",
       "    </tr>\n",
       "  </thead>\n",
       "  <tbody>\n",
       "  </tbody>\n",
       "</table><p>"
      ],
      "text/plain": [
       "<IPython.core.display.HTML object>"
      ]
     },
     "metadata": {},
     "output_type": "display_data"
    },
    {
     "ename": "SafetensorError",
     "evalue": "Error while serializing: I/O error: There is not enough space on the disk. (os error 112)",
     "output_type": "error",
     "traceback": [
      "\u001b[31m---------------------------------------------------------------------------\u001b[39m",
      "\u001b[31mSafetensorError\u001b[39m                           Traceback (most recent call last)",
      "\u001b[36mCell\u001b[39m\u001b[36m \u001b[39m\u001b[32mIn[19]\u001b[39m\u001b[32m, line 20\u001b[39m\n\u001b[32m      3\u001b[39m training_args = TrainingArguments(\n\u001b[32m      4\u001b[39m     output_dir = \u001b[33m\"\u001b[39m\u001b[33m./output/model\u001b[39m\u001b[33m\"\u001b[39m,\n\u001b[32m      5\u001b[39m     eval_strategy = \u001b[33m\"\u001b[39m\u001b[33mepoch\u001b[39m\u001b[33m\"\u001b[39m,\n\u001b[32m   (...)\u001b[39m\u001b[32m      9\u001b[39m     num_train_epochs = \u001b[32m10\u001b[39m\n\u001b[32m     10\u001b[39m )\n\u001b[32m     12\u001b[39m trainer = Trainer(\n\u001b[32m     13\u001b[39m     model = model,\n\u001b[32m     14\u001b[39m     train_dataset = dataset[\u001b[33m\"\u001b[39m\u001b[33mtrain\u001b[39m\u001b[33m\"\u001b[39m],\n\u001b[32m   (...)\u001b[39m\u001b[32m     17\u001b[39m     data_collator = data_collator\n\u001b[32m     18\u001b[39m )\n\u001b[32m---> \u001b[39m\u001b[32m20\u001b[39m \u001b[43mtrainer\u001b[49m\u001b[43m.\u001b[49m\u001b[43mtrain\u001b[49m\u001b[43m(\u001b[49m\u001b[43m)\u001b[49m\n",
      "\u001b[36mFile \u001b[39m\u001b[32me:\\Generative AI Projects\\Finetuning-distilgpt2-LLM-on-food-recepies\\finevenv\\Lib\\site-packages\\transformers\\trainer.py:2328\u001b[39m, in \u001b[36mTrainer.train\u001b[39m\u001b[34m(self, resume_from_checkpoint, trial, ignore_keys_for_eval, **kwargs)\u001b[39m\n\u001b[32m   2326\u001b[39m         hf_hub_utils.enable_progress_bars()\n\u001b[32m   2327\u001b[39m \u001b[38;5;28;01melse\u001b[39;00m:\n\u001b[32m-> \u001b[39m\u001b[32m2328\u001b[39m     \u001b[38;5;28;01mreturn\u001b[39;00m \u001b[43minner_training_loop\u001b[49m\u001b[43m(\u001b[49m\n\u001b[32m   2329\u001b[39m \u001b[43m        \u001b[49m\u001b[43margs\u001b[49m\u001b[43m=\u001b[49m\u001b[43margs\u001b[49m\u001b[43m,\u001b[49m\n\u001b[32m   2330\u001b[39m \u001b[43m        \u001b[49m\u001b[43mresume_from_checkpoint\u001b[49m\u001b[43m=\u001b[49m\u001b[43mresume_from_checkpoint\u001b[49m\u001b[43m,\u001b[49m\n\u001b[32m   2331\u001b[39m \u001b[43m        \u001b[49m\u001b[43mtrial\u001b[49m\u001b[43m=\u001b[49m\u001b[43mtrial\u001b[49m\u001b[43m,\u001b[49m\n\u001b[32m   2332\u001b[39m \u001b[43m        \u001b[49m\u001b[43mignore_keys_for_eval\u001b[49m\u001b[43m=\u001b[49m\u001b[43mignore_keys_for_eval\u001b[49m\u001b[43m,\u001b[49m\n\u001b[32m   2333\u001b[39m \u001b[43m    \u001b[49m\u001b[43m)\u001b[49m\n",
      "\u001b[36mFile \u001b[39m\u001b[32me:\\Generative AI Projects\\Finetuning-distilgpt2-LLM-on-food-recepies\\finevenv\\Lib\\site-packages\\transformers\\trainer.py:2754\u001b[39m, in \u001b[36mTrainer._inner_training_loop\u001b[39m\u001b[34m(self, batch_size, args, resume_from_checkpoint, trial, ignore_keys_for_eval)\u001b[39m\n\u001b[32m   2752\u001b[39m     \u001b[38;5;28mself\u001b[39m.state.epoch = epoch + (step + \u001b[32m1\u001b[39m + steps_skipped) / steps_in_epoch\n\u001b[32m   2753\u001b[39m     \u001b[38;5;28mself\u001b[39m.control = \u001b[38;5;28mself\u001b[39m.callback_handler.on_step_end(args, \u001b[38;5;28mself\u001b[39m.state, \u001b[38;5;28mself\u001b[39m.control)\n\u001b[32m-> \u001b[39m\u001b[32m2754\u001b[39m     \u001b[38;5;28;43mself\u001b[39;49m\u001b[43m.\u001b[49m\u001b[43m_maybe_log_save_evaluate\u001b[49m\u001b[43m(\u001b[49m\n\u001b[32m   2755\u001b[39m \u001b[43m        \u001b[49m\u001b[43mtr_loss\u001b[49m\u001b[43m,\u001b[49m\n\u001b[32m   2756\u001b[39m \u001b[43m        \u001b[49m\u001b[43mgrad_norm\u001b[49m\u001b[43m,\u001b[49m\n\u001b[32m   2757\u001b[39m \u001b[43m        \u001b[49m\u001b[43mmodel\u001b[49m\u001b[43m,\u001b[49m\n\u001b[32m   2758\u001b[39m \u001b[43m        \u001b[49m\u001b[43mtrial\u001b[49m\u001b[43m,\u001b[49m\n\u001b[32m   2759\u001b[39m \u001b[43m        \u001b[49m\u001b[43mepoch\u001b[49m\u001b[43m,\u001b[49m\n\u001b[32m   2760\u001b[39m \u001b[43m        \u001b[49m\u001b[43mignore_keys_for_eval\u001b[49m\u001b[43m,\u001b[49m\n\u001b[32m   2761\u001b[39m \u001b[43m        \u001b[49m\u001b[43mstart_time\u001b[49m\u001b[43m,\u001b[49m\n\u001b[32m   2762\u001b[39m \u001b[43m        \u001b[49m\u001b[43mlearning_rate\u001b[49m\u001b[43m=\u001b[49m\u001b[43mlearning_rate\u001b[49m\u001b[43m,\u001b[49m\n\u001b[32m   2763\u001b[39m \u001b[43m    \u001b[49m\u001b[43m)\u001b[49m\n\u001b[32m   2764\u001b[39m \u001b[38;5;28;01melse\u001b[39;00m:\n\u001b[32m   2765\u001b[39m     \u001b[38;5;28mself\u001b[39m.control = \u001b[38;5;28mself\u001b[39m.callback_handler.on_substep_end(args, \u001b[38;5;28mself\u001b[39m.state, \u001b[38;5;28mself\u001b[39m.control)\n",
      "\u001b[36mFile \u001b[39m\u001b[32me:\\Generative AI Projects\\Finetuning-distilgpt2-LLM-on-food-recepies\\finevenv\\Lib\\site-packages\\transformers\\trainer.py:3234\u001b[39m, in \u001b[36mTrainer._maybe_log_save_evaluate\u001b[39m\u001b[34m(self, tr_loss, grad_norm, model, trial, epoch, ignore_keys_for_eval, start_time, learning_rate)\u001b[39m\n\u001b[32m   3231\u001b[39m         \u001b[38;5;28mself\u001b[39m.control.should_save = is_new_best_metric\n\u001b[32m   3233\u001b[39m \u001b[38;5;28;01mif\u001b[39;00m \u001b[38;5;28mself\u001b[39m.control.should_save:\n\u001b[32m-> \u001b[39m\u001b[32m3234\u001b[39m     \u001b[38;5;28;43mself\u001b[39;49m\u001b[43m.\u001b[49m\u001b[43m_save_checkpoint\u001b[49m\u001b[43m(\u001b[49m\u001b[43mmodel\u001b[49m\u001b[43m,\u001b[49m\u001b[43m \u001b[49m\u001b[43mtrial\u001b[49m\u001b[43m)\u001b[49m\n\u001b[32m   3235\u001b[39m     \u001b[38;5;28mself\u001b[39m.control = \u001b[38;5;28mself\u001b[39m.callback_handler.on_save(\u001b[38;5;28mself\u001b[39m.args, \u001b[38;5;28mself\u001b[39m.state, \u001b[38;5;28mself\u001b[39m.control)\n",
      "\u001b[36mFile \u001b[39m\u001b[32me:\\Generative AI Projects\\Finetuning-distilgpt2-LLM-on-food-recepies\\finevenv\\Lib\\site-packages\\transformers\\trainer.py:3331\u001b[39m, in \u001b[36mTrainer._save_checkpoint\u001b[39m\u001b[34m(self, model, trial)\u001b[39m\n\u001b[32m   3329\u001b[39m run_dir = \u001b[38;5;28mself\u001b[39m._get_output_dir(trial=trial)\n\u001b[32m   3330\u001b[39m output_dir = os.path.join(run_dir, checkpoint_folder)\n\u001b[32m-> \u001b[39m\u001b[32m3331\u001b[39m \u001b[38;5;28;43mself\u001b[39;49m\u001b[43m.\u001b[49m\u001b[43msave_model\u001b[49m\u001b[43m(\u001b[49m\u001b[43moutput_dir\u001b[49m\u001b[43m,\u001b[49m\u001b[43m \u001b[49m\u001b[43m_internal_call\u001b[49m\u001b[43m=\u001b[49m\u001b[38;5;28;43;01mTrue\u001b[39;49;00m\u001b[43m)\u001b[49m\n\u001b[32m   3333\u001b[39m \u001b[38;5;28;01mif\u001b[39;00m \u001b[38;5;28mself\u001b[39m.args.save_strategy \u001b[38;5;129;01min\u001b[39;00m [SaveStrategy.STEPS, SaveStrategy.EPOCH] \u001b[38;5;129;01mand\u001b[39;00m \u001b[38;5;28mself\u001b[39m.state.best_global_step:\n\u001b[32m   3334\u001b[39m     best_checkpoint_folder = \u001b[33mf\u001b[39m\u001b[33m\"\u001b[39m\u001b[38;5;132;01m{\u001b[39;00mPREFIX_CHECKPOINT_DIR\u001b[38;5;132;01m}\u001b[39;00m\u001b[33m-\u001b[39m\u001b[38;5;132;01m{\u001b[39;00m\u001b[38;5;28mself\u001b[39m.state.best_global_step\u001b[38;5;132;01m}\u001b[39;00m\u001b[33m\"\u001b[39m\n",
      "\u001b[36mFile \u001b[39m\u001b[32me:\\Generative AI Projects\\Finetuning-distilgpt2-LLM-on-food-recepies\\finevenv\\Lib\\site-packages\\transformers\\trainer.py:4207\u001b[39m, in \u001b[36mTrainer.save_model\u001b[39m\u001b[34m(self, output_dir, _internal_call)\u001b[39m\n\u001b[32m   4204\u001b[39m         \u001b[38;5;28mself\u001b[39m.model_wrapped.save_checkpoint(output_dir)\n\u001b[32m   4206\u001b[39m \u001b[38;5;28;01melif\u001b[39;00m \u001b[38;5;28mself\u001b[39m.args.should_save:\n\u001b[32m-> \u001b[39m\u001b[32m4207\u001b[39m     \u001b[38;5;28;43mself\u001b[39;49m\u001b[43m.\u001b[49m\u001b[43m_save\u001b[49m\u001b[43m(\u001b[49m\u001b[43moutput_dir\u001b[49m\u001b[43m)\u001b[49m\n\u001b[32m   4209\u001b[39m \u001b[38;5;66;03m# Push to the Hub when `save_model` is called by the user.\u001b[39;00m\n\u001b[32m   4210\u001b[39m \u001b[38;5;28;01mif\u001b[39;00m \u001b[38;5;28mself\u001b[39m.args.push_to_hub \u001b[38;5;129;01mand\u001b[39;00m \u001b[38;5;129;01mnot\u001b[39;00m _internal_call:\n",
      "\u001b[36mFile \u001b[39m\u001b[32me:\\Generative AI Projects\\Finetuning-distilgpt2-LLM-on-food-recepies\\finevenv\\Lib\\site-packages\\transformers\\trainer.py:4311\u001b[39m, in \u001b[36mTrainer._save\u001b[39m\u001b[34m(self, output_dir, state_dict)\u001b[39m\n\u001b[32m   4309\u001b[39m             torch.save(state_dict, os.path.join(output_dir, WEIGHTS_NAME))\n\u001b[32m   4310\u001b[39m \u001b[38;5;28;01melse\u001b[39;00m:\n\u001b[32m-> \u001b[39m\u001b[32m4311\u001b[39m     \u001b[38;5;28;43mself\u001b[39;49m\u001b[43m.\u001b[49m\u001b[43mmodel\u001b[49m\u001b[43m.\u001b[49m\u001b[43msave_pretrained\u001b[49m\u001b[43m(\u001b[49m\n\u001b[32m   4312\u001b[39m \u001b[43m        \u001b[49m\u001b[43moutput_dir\u001b[49m\u001b[43m,\u001b[49m\u001b[43m \u001b[49m\u001b[43mstate_dict\u001b[49m\u001b[43m=\u001b[49m\u001b[43mstate_dict\u001b[49m\u001b[43m,\u001b[49m\u001b[43m \u001b[49m\u001b[43msafe_serialization\u001b[49m\u001b[43m=\u001b[49m\u001b[38;5;28;43mself\u001b[39;49m\u001b[43m.\u001b[49m\u001b[43margs\u001b[49m\u001b[43m.\u001b[49m\u001b[43msave_safetensors\u001b[49m\n\u001b[32m   4313\u001b[39m \u001b[43m    \u001b[49m\u001b[43m)\u001b[49m\n\u001b[32m   4315\u001b[39m \u001b[38;5;28;01mif\u001b[39;00m \u001b[38;5;28mself\u001b[39m.processing_class \u001b[38;5;129;01mis\u001b[39;00m \u001b[38;5;129;01mnot\u001b[39;00m \u001b[38;5;28;01mNone\u001b[39;00m:\n\u001b[32m   4316\u001b[39m     \u001b[38;5;28mself\u001b[39m.processing_class.save_pretrained(output_dir)\n",
      "\u001b[36mFile \u001b[39m\u001b[32me:\\Generative AI Projects\\Finetuning-distilgpt2-LLM-on-food-recepies\\finevenv\\Lib\\site-packages\\transformers\\modeling_utils.py:4292\u001b[39m, in \u001b[36mPreTrainedModel.save_pretrained\u001b[39m\u001b[34m(self, save_directory, is_main_process, state_dict, save_function, push_to_hub, max_shard_size, safe_serialization, variant, token, save_peft_format, **kwargs)\u001b[39m\n\u001b[32m   4287\u001b[39m     gc.collect()\n\u001b[32m   4289\u001b[39m \u001b[38;5;28;01mif\u001b[39;00m safe_serialization:\n\u001b[32m   4290\u001b[39m     \u001b[38;5;66;03m# At some point we will need to deal better with save_function (used for TPU and other distributed\u001b[39;00m\n\u001b[32m   4291\u001b[39m     \u001b[38;5;66;03m# joyfulness), but for now this enough.\u001b[39;00m\n\u001b[32m-> \u001b[39m\u001b[32m4292\u001b[39m     \u001b[43msafe_save_file\u001b[49m\u001b[43m(\u001b[49m\u001b[43mshard\u001b[49m\u001b[43m,\u001b[49m\u001b[43m \u001b[49m\u001b[43mos\u001b[49m\u001b[43m.\u001b[49m\u001b[43mpath\u001b[49m\u001b[43m.\u001b[49m\u001b[43mjoin\u001b[49m\u001b[43m(\u001b[49m\u001b[43msave_directory\u001b[49m\u001b[43m,\u001b[49m\u001b[43m \u001b[49m\u001b[43mshard_file\u001b[49m\u001b[43m)\u001b[49m\u001b[43m,\u001b[49m\u001b[43m \u001b[49m\u001b[43mmetadata\u001b[49m\u001b[43m=\u001b[49m\u001b[43m{\u001b[49m\u001b[33;43m\"\u001b[39;49m\u001b[33;43mformat\u001b[39;49m\u001b[33;43m\"\u001b[39;49m\u001b[43m:\u001b[49m\u001b[43m \u001b[49m\u001b[33;43m\"\u001b[39;49m\u001b[33;43mpt\u001b[39;49m\u001b[33;43m\"\u001b[39;49m\u001b[43m}\u001b[49m\u001b[43m)\u001b[49m\n\u001b[32m   4293\u001b[39m \u001b[38;5;28;01melse\u001b[39;00m:\n\u001b[32m   4294\u001b[39m     save_function(shard, os.path.join(save_directory, shard_file))\n",
      "\u001b[36mFile \u001b[39m\u001b[32me:\\Generative AI Projects\\Finetuning-distilgpt2-LLM-on-food-recepies\\finevenv\\Lib\\site-packages\\safetensors\\torch.py:352\u001b[39m, in \u001b[36msave_file\u001b[39m\u001b[34m(tensors, filename, metadata)\u001b[39m\n\u001b[32m    321\u001b[39m \u001b[38;5;28;01mdef\u001b[39;00m\u001b[38;5;250m \u001b[39m\u001b[34msave_file\u001b[39m(\n\u001b[32m    322\u001b[39m     tensors: Dict[\u001b[38;5;28mstr\u001b[39m, torch.Tensor],\n\u001b[32m    323\u001b[39m     filename: Union[\u001b[38;5;28mstr\u001b[39m, os.PathLike],\n\u001b[32m    324\u001b[39m     metadata: Optional[Dict[\u001b[38;5;28mstr\u001b[39m, \u001b[38;5;28mstr\u001b[39m]] = \u001b[38;5;28;01mNone\u001b[39;00m,\n\u001b[32m    325\u001b[39m ):\n\u001b[32m    326\u001b[39m \u001b[38;5;250m    \u001b[39m\u001b[33;03m\"\"\"\u001b[39;00m\n\u001b[32m    327\u001b[39m \u001b[33;03m    Saves a dictionary of tensors into raw bytes in safetensors format.\u001b[39;00m\n\u001b[32m    328\u001b[39m \n\u001b[32m   (...)\u001b[39m\u001b[32m    350\u001b[39m \u001b[33;03m    ```\u001b[39;00m\n\u001b[32m    351\u001b[39m \u001b[33;03m    \"\"\"\u001b[39;00m\n\u001b[32m--> \u001b[39m\u001b[32m352\u001b[39m     \u001b[43mserialize_file\u001b[49m\u001b[43m(\u001b[49m\u001b[43m_flatten\u001b[49m\u001b[43m(\u001b[49m\u001b[43mtensors\u001b[49m\u001b[43m)\u001b[49m\u001b[43m,\u001b[49m\u001b[43m \u001b[49m\u001b[43mfilename\u001b[49m\u001b[43m,\u001b[49m\u001b[43m \u001b[49m\u001b[43mmetadata\u001b[49m\u001b[43m=\u001b[49m\u001b[43mmetadata\u001b[49m\u001b[43m)\u001b[49m\n",
      "\u001b[31mSafetensorError\u001b[39m: Error while serializing: I/O error: There is not enough space on the disk. (os error 112)"
     ]
    }
   ],
   "source": [
    "from transformers import Trainer, TrainingArguments\n",
    "\n",
    "training_args = TrainingArguments(\n",
    "    output_dir = \"./output/model\",\n",
    "    eval_strategy = \"epoch\",\n",
    "    per_device_train_batch_size = 1,\n",
    "    learning_rate = 2e-5,\n",
    "    weight_decay = 0.01,\n",
    "    num_train_epochs = 10\n",
    ")\n",
    "\n",
    "trainer = Trainer(\n",
    "    model = model,\n",
    "    train_dataset = dataset[\"train\"],\n",
    "    eval_dataset = dataset[\"test\"],\n",
    "    args = training_args,\n",
    "    data_collator = data_collator\n",
    ")\n",
    "\n",
    "trainer.train()"
   ]
  },
  {
   "cell_type": "markdown",
   "id": "97e30422",
   "metadata": {},
   "source": [
    "#### Testing the model"
   ]
  },
  {
   "cell_type": "code",
   "execution_count": null,
   "id": "ad0ad577",
   "metadata": {},
   "outputs": [
    {
     "name": "stderr",
     "output_type": "stream",
     "text": [
      "<>:7: SyntaxWarning: invalid escape sequence '\\m'\n",
      "<>:7: SyntaxWarning: invalid escape sequence '\\m'\n",
      "C:\\Users\\swapn\\AppData\\Local\\Temp\\ipykernel_24092\\1834835573.py:7: SyntaxWarning: invalid escape sequence '\\m'\n",
      "  model = AutoModelForCausalLM.from_pretrained(\"E:/Generative AI Projects/Finetuning-distilgpt2-LLM-on-food-recepies/output\\model/checkpoint-126500\")\n",
      "'(ReadTimeoutError(\"HTTPSConnectionPool(host='huggingface.co', port=443): Read timed out. (read timeout=10)\"), '(Request ID: d1cfed7b-5a92-4e80-be78-ca40f7e8cc29)')' thrown while requesting HEAD https://huggingface.co/distilgpt2/resolve/main/tokenizer_config.json\n",
      "Retrying in 1s [Retry 1/5].\n",
      "'(ReadTimeoutError(\"HTTPSConnectionPool(host='huggingface.co', port=443): Read timed out. (read timeout=10)\"), '(Request ID: 04ee1dbc-51d5-4547-84fe-58231f89707c)')' thrown while requesting HEAD https://huggingface.co/distilgpt2/resolve/main/tokenizer_config.json\n",
      "Retrying in 2s [Retry 2/5].\n",
      "'(MaxRetryError('HTTPSConnectionPool(host=\\'huggingface.co\\', port=443): Max retries exceeded with url: /distilgpt2/resolve/main/tokenizer_config.json (Caused by NameResolutionError(\"<urllib3.connection.HTTPSConnection object at 0x000001797D3FF610>: Failed to resolve \\'huggingface.co\\' ([Errno 11001] getaddrinfo failed)\"))'), '(Request ID: 7b7d9d56-1b11-40a0-a595-5ad94be7b3a3)')' thrown while requesting HEAD https://huggingface.co/distilgpt2/resolve/main/tokenizer_config.json\n",
      "Retrying in 4s [Retry 3/5].\n"
     ]
    }
   ],
   "source": [
    "from transformers import AutoTokenizer, AutoModelForCausalLM\n",
    "\n",
    "tokenizer = AutoTokenizer.from_pretrained(\"distilgpt2\")\n",
    "\n",
    "tokenizer.pad_token = tokenizer.eos_token\n",
    "\n",
    "model = AutoModelForCausalLM.from_pretrained(\"E:/Generative AI Projects/Finetuning-distilgpt2-LLM-on-food-recepies/output\\model/checkpoint-126500\")\n",
    "\n",
    "prompt = \"Millionare Pie\"\n",
    "\n",
    "inputs = tokenizer(prompt, return_tensors=\"pt\")\n",
    "\n",
    "outputs = model.generate(\n",
    "    inputs.input_ids,\n",
    "    max_new_tokens = 100,\n",
    "    do_sample = True,\n",
    "    top_k = 50,\n",
    "    top_p = 0.98,\n",
    "    repetition_penalty = 1.2,\n",
    "    temperature = 0.7,\n",
    "    eos_token_id=tokenizer.eos_token_id\n",
    ")\n",
    "    \n",
    "outputs"
   ]
  },
  {
   "cell_type": "code",
   "execution_count": 29,
   "id": "3656c386",
   "metadata": {},
   "outputs": [
    {
     "data": {
      "text/plain": [
       "['Millionare Pie Crust  | DIRECTIONS: Mix milk, sugar and butter in a medium bowl. Place crust on a lightly greased baking sheet; cut with biscuit cutter or pastry cutter. Bake at 350° for 30 minutes until top springs back when lightly touched. Cool in pan on wire rack before removing from pan. (Can be reheated to serve at once.) Top immediately with whipped cream and then pudding. Refrigerate. Combine melted chocolate for topping. To prepare frosting. Spoon 1/']"
      ]
     },
     "execution_count": 29,
     "metadata": {},
     "output_type": "execute_result"
    }
   ],
   "source": [
    "output_string = tokenizer.batch_decode(outputs)\n",
    "output_string"
   ]
  },
  {
   "cell_type": "code",
   "execution_count": 30,
   "id": "5292556c",
   "metadata": {},
   "outputs": [
    {
     "name": "stdout",
     "output_type": "stream",
     "text": [
      "1. Millionare Pie Crust  | DIRECTIONS: Mix milk, sugar and butter in a medium bowl.\n",
      "2. Place crust on a lightly greased baking sheet; cut with biscuit cutter or pastry cutter.\n",
      "3. Bake at 350° for 30 minutes until top springs back when lightly touched.\n",
      "4. Cool in pan on wire rack before removing from pan.\n",
      "5. (Can be reheated to serve at once.\n",
      "6. ) Top immediately with whipped cream and then pudding.\n",
      "7. Refrigerate.\n",
      "8. Combine melted chocolate for topping.\n",
      "9. To prepare frosting.\n",
      "10. Spoon 1/.\n"
     ]
    }
   ],
   "source": [
    "text = \" \".join(output_string)\n",
    "sentences = [sentence.strip() for sentence in text.split('.') if sentence.strip()]\n",
    "for i, sentence in enumerate(sentences, 1):\n",
    "        print(f\"{i}. {sentence}.\")"
   ]
  }
 ],
 "metadata": {
  "kernelspec": {
   "display_name": "finevenv",
   "language": "python",
   "name": "python3"
  },
  "language_info": {
   "codemirror_mode": {
    "name": "ipython",
    "version": 3
   },
   "file_extension": ".py",
   "mimetype": "text/x-python",
   "name": "python",
   "nbconvert_exporter": "python",
   "pygments_lexer": "ipython3",
   "version": "3.13.7"
  }
 },
 "nbformat": 4,
 "nbformat_minor": 5
}
